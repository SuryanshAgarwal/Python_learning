{
 "cells": [
  {
   "cell_type": "code",
   "execution_count": 5,
   "metadata": {},
   "outputs": [],
   "source": [
    "import pip\n",
    "import textwrap"
   ]
  },
  {
   "cell_type": "markdown",
   "metadata": {},
   "source": [
    "pip.get_installed_distributions()"
   ]
  },
  {
   "cell_type": "code",
   "execution_count": 7,
   "metadata": {},
   "outputs": [],
   "source": [
    "import platform"
   ]
  },
  {
   "cell_type": "code",
   "execution_count": 19,
   "metadata": {},
   "outputs": [
    {
     "data": {
      "text/plain": [
       "'Windows-10-10.0.17134-SP0'"
      ]
     },
     "execution_count": 19,
     "metadata": {},
     "output_type": "execute_result"
    }
   ],
   "source": [
    "platform.platform()"
   ]
  },
  {
   "cell_type": "code",
   "execution_count": 20,
   "metadata": {},
   "outputs": [
    {
     "data": {
      "text/plain": [
       "'3.6.6'"
      ]
     },
     "execution_count": 20,
     "metadata": {},
     "output_type": "execute_result"
    }
   ],
   "source": [
    "platform.python_version()"
   ]
  },
  {
   "cell_type": "code",
   "execution_count": 59,
   "metadata": {},
   "outputs": [],
   "source": [
    "string_maps = {\n",
    "                \"1\": \"abc\",\n",
    "                \"2\": \"def\",\n",
    "                \"3\": \"ghi\",\n",
    "                \"4\": \"jkl\",\n",
    "                \"5\": \"mno\",\n",
    "                \"6\": \"pqrs\",\n",
    "                \"7\": \"tuv\",\n",
    "                \"8\": \"wxy\",\n",
    "#                 \"9\": \"z\"\n",
    "            }"
   ]
  },
  {
   "cell_type": "code",
   "execution_count": 60,
   "metadata": {},
   "outputs": [
    {
     "data": {
      "text/plain": [
       "'abc'"
      ]
     },
     "execution_count": 60,
     "metadata": {},
     "output_type": "execute_result"
    }
   ],
   "source": [
    "string_maps[\"1\"]"
   ]
  },
  {
   "cell_type": "code",
   "execution_count": 68,
   "metadata": {},
   "outputs": [],
   "source": [
    "from itertools import permutations \n",
    "from itertools import combinations\n",
    "def pnc(var):\n",
    "    perm = permutations([var[0],var[1],var[2]])\n",
    "    comb = combinations([var[0],var[1],var[2]],2)\n",
    "    print(\"Permutation\")\n",
    "    for i in perm:\n",
    "        print(i)\n",
    "    print(\"\\nCombination\")\n",
    "    for i in comb:\n",
    "        print(i)"
   ]
  },
  {
   "cell_type": "code",
   "execution_count": 69,
   "metadata": {},
   "outputs": [
    {
     "name": "stdout",
     "output_type": "stream",
     "text": [
      "Permutation\n",
      "('a', 'b', 'c')\n",
      "('a', 'c', 'b')\n",
      "('b', 'a', 'c')\n",
      "('b', 'c', 'a')\n",
      "('c', 'a', 'b')\n",
      "('c', 'b', 'a')\n",
      "\n",
      "Combination\n",
      "('a', 'b')\n",
      "('a', 'c')\n",
      "('b', 'c')\n",
      "\n",
      "....******....\n",
      "\n",
      "Permutation\n",
      "('d', 'e', 'f')\n",
      "('d', 'f', 'e')\n",
      "('e', 'd', 'f')\n",
      "('e', 'f', 'd')\n",
      "('f', 'd', 'e')\n",
      "('f', 'e', 'd')\n",
      "\n",
      "Combination\n",
      "('d', 'e')\n",
      "('d', 'f')\n",
      "('e', 'f')\n",
      "\n",
      "....******....\n",
      "\n",
      "Permutation\n",
      "('g', 'h', 'i')\n",
      "('g', 'i', 'h')\n",
      "('h', 'g', 'i')\n",
      "('h', 'i', 'g')\n",
      "('i', 'g', 'h')\n",
      "('i', 'h', 'g')\n",
      "\n",
      "Combination\n",
      "('g', 'h')\n",
      "('g', 'i')\n",
      "('h', 'i')\n",
      "\n",
      "....******....\n",
      "\n",
      "Permutation\n",
      "('j', 'k', 'l')\n",
      "('j', 'l', 'k')\n",
      "('k', 'j', 'l')\n",
      "('k', 'l', 'j')\n",
      "('l', 'j', 'k')\n",
      "('l', 'k', 'j')\n",
      "\n",
      "Combination\n",
      "('j', 'k')\n",
      "('j', 'l')\n",
      "('k', 'l')\n",
      "\n",
      "....******....\n",
      "\n",
      "Permutation\n",
      "('m', 'n', 'o')\n",
      "('m', 'o', 'n')\n",
      "('n', 'm', 'o')\n",
      "('n', 'o', 'm')\n",
      "('o', 'm', 'n')\n",
      "('o', 'n', 'm')\n",
      "\n",
      "Combination\n",
      "('m', 'n')\n",
      "('m', 'o')\n",
      "('n', 'o')\n",
      "\n",
      "....******....\n",
      "\n",
      "Permutation\n",
      "('p', 'q', 'r')\n",
      "('p', 'r', 'q')\n",
      "('q', 'p', 'r')\n",
      "('q', 'r', 'p')\n",
      "('r', 'p', 'q')\n",
      "('r', 'q', 'p')\n",
      "\n",
      "Combination\n",
      "('p', 'q')\n",
      "('p', 'r')\n",
      "('q', 'r')\n",
      "\n",
      "....******....\n",
      "\n",
      "Permutation\n",
      "('t', 'u', 'v')\n",
      "('t', 'v', 'u')\n",
      "('u', 't', 'v')\n",
      "('u', 'v', 't')\n",
      "('v', 't', 'u')\n",
      "('v', 'u', 't')\n",
      "\n",
      "Combination\n",
      "('t', 'u')\n",
      "('t', 'v')\n",
      "('u', 'v')\n",
      "\n",
      "....******....\n",
      "\n",
      "Permutation\n",
      "('w', 'x', 'y')\n",
      "('w', 'y', 'x')\n",
      "('x', 'w', 'y')\n",
      "('x', 'y', 'w')\n",
      "('y', 'w', 'x')\n",
      "('y', 'x', 'w')\n",
      "\n",
      "Combination\n",
      "('w', 'x')\n",
      "('w', 'y')\n",
      "('x', 'y')\n",
      "\n",
      "....******....\n",
      "\n"
     ]
    }
   ],
   "source": [
    "for keys in string_maps:\n",
    "    var = string_maps[keys]\n",
    "    pnc(var)\n",
    "   \n",
    "    print('\\n....******....\\n')"
   ]
  },
  {
   "cell_type": "code",
   "execution_count": 71,
   "metadata": {},
   "outputs": [],
   "source": [
    "import math\n",
    "a=9\n",
    "b=5"
   ]
  },
  {
   "cell_type": "code",
   "execution_count": 76,
   "metadata": {},
   "outputs": [
    {
     "name": "stdout",
     "output_type": "stream",
     "text": [
      "Two sides of triangle: 5 and 9\n"
     ]
    }
   ],
   "source": [
    "l1 = 5\n",
    "l2 = 9\n",
    "print('Two sides of triangle:',l1,'and',l2)"
   ]
  },
  {
   "cell_type": "code",
   "execution_count": 77,
   "metadata": {},
   "outputs": [
    {
     "data": {
      "text/plain": [
       "10.295630140987"
      ]
     },
     "execution_count": 77,
     "metadata": {},
     "output_type": "execute_result"
    }
   ],
   "source": [
    "math.sqrt(l1**2 + l2**2)"
   ]
  },
  {
   "cell_type": "code",
   "execution_count": 78,
   "metadata": {},
   "outputs": [
    {
     "data": {
      "text/plain": [
       "7.483314773547883"
      ]
     },
     "execution_count": 78,
     "metadata": {},
     "output_type": "execute_result"
    }
   ],
   "source": [
    "math.sqrt(l2**2 - l1**2)"
   ]
  },
  {
   "cell_type": "code",
   "execution_count": 79,
   "metadata": {},
   "outputs": [],
   "source": [
    "def right_angel_tri(l1, l2):\n",
    "    if l1>l2:\n",
    "        l3 = math.sqrt(l1**2 - l2**2)\n",
    "    else:\n",
    "        l3 = math.sqrt(l2**2 - l1**2)\n",
    "    l4 = math.sqrt(l1**2 + l2**2)\n",
    "    return l3, l4"
   ]
  },
  {
   "cell_type": "code",
   "execution_count": 82,
   "metadata": {},
   "outputs": [],
   "source": [
    "length = right_angel_tri(l1,l2)"
   ]
  },
  {
   "cell_type": "code",
   "execution_count": 84,
   "metadata": {},
   "outputs": [
    {
     "name": "stdout",
     "output_type": "stream",
     "text": [
      "possible combination of right angle triangle:\n",
      " 5 9 7.483314773547883\n",
      "5 9 10.295630140987\n"
     ]
    }
   ],
   "source": [
    "print('possible combination of right angle triangle:\\n',l1,l2,length[0])\n",
    "print(l1,l2,length[1])"
   ]
  },
  {
   "cell_type": "code",
   "execution_count": null,
   "metadata": {},
   "outputs": [],
   "source": []
  }
 ],
 "metadata": {
  "kernelspec": {
   "display_name": "Python 3",
   "language": "python",
   "name": "python3"
  },
  "language_info": {
   "codemirror_mode": {
    "name": "ipython",
    "version": 3
   },
   "file_extension": ".py",
   "mimetype": "text/x-python",
   "name": "python",
   "nbconvert_exporter": "python",
   "pygments_lexer": "ipython3",
   "version": "3.6.6"
  }
 },
 "nbformat": 4,
 "nbformat_minor": 2
}
